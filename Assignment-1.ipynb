{
 "cells": [
  {
   "cell_type": "code",
   "execution_count": 4,
   "id": "1353893c-2ea4-4918-b37a-8e310ee58910",
   "metadata": {},
   "outputs": [
    {
     "data": {
      "text/plain": [
       "'1. Who developed Python Programming Language?'"
      ]
     },
     "execution_count": 4,
     "metadata": {},
     "output_type": "execute_result"
    }
   ],
   "source": [
    "\"1. Who developed Python Programming Language?\""
   ]
  },
  {
   "cell_type": "code",
   "execution_count": 5,
   "id": "7340e2d5-c623-4c6d-9a08-0582de48e9ec",
   "metadata": {},
   "outputs": [
    {
     "data": {
      "text/plain": [
       "'Ans- \"Guido van Rossum\"'"
      ]
     },
     "execution_count": 5,
     "metadata": {},
     "output_type": "execute_result"
    }
   ],
   "source": [
    "'Ans- \"Guido van Rossum\"'"
   ]
  },
  {
   "cell_type": "code",
   "execution_count": 6,
   "id": "cfbc4d0a-73dd-4849-99db-e980bf430ec6",
   "metadata": {},
   "outputs": [
    {
     "data": {
      "text/plain": [
       "'2. Which type of Programming does Python support?'"
      ]
     },
     "execution_count": 6,
     "metadata": {},
     "output_type": "execute_result"
    }
   ],
   "source": [
    "'2. Which type of Programming does Python support?'"
   ]
  },
  {
   "cell_type": "code",
   "execution_count": 7,
   "id": "dfdd61a7-c8f7-4723-a5b3-c963c0521a19",
   "metadata": {},
   "outputs": [
    {
     "data": {
      "text/plain": [
       "'Ans- Python is an interpreted programming language,supporting object6 oriented,structured,and functional programming'"
      ]
     },
     "execution_count": 7,
     "metadata": {},
     "output_type": "execute_result"
    }
   ],
   "source": [
    "'Ans- Python is an interpreted programming language,supporting object6 oriented,structured,and functional programming'"
   ]
  },
  {
   "cell_type": "code",
   "execution_count": 8,
   "id": "0ea2f853-e216-4929-97b7-ad5f89f791e4",
   "metadata": {},
   "outputs": [
    {
     "data": {
      "text/plain": [
       "'3. Is Python case sensitive when dealing with identifiers?'"
      ]
     },
     "execution_count": 8,
     "metadata": {},
     "output_type": "execute_result"
    }
   ],
   "source": [
    "'3. Is Python case sensitive when dealing with identifiers?'"
   ]
  },
  {
   "cell_type": "code",
   "execution_count": 9,
   "id": "48e898d5-c4de-43f3-bc46-0ce202b6a8b3",
   "metadata": {},
   "outputs": [
    {
     "data": {
      "text/plain": [
       "'Ans- Yes,Python is a case sensitive language,i.e.,it treat uppercase and lowercase characters differently'"
      ]
     },
     "execution_count": 9,
     "metadata": {},
     "output_type": "execute_result"
    }
   ],
   "source": [
    "'Ans- Yes,Python is a case sensitive language,i.e.,it treat uppercase and lowercase characters differently'"
   ]
  },
  {
   "cell_type": "code",
   "execution_count": 10,
   "id": "2a693ba5-3cb4-4170-9af0-ad9e09c6d020",
   "metadata": {},
   "outputs": [
    {
     "data": {
      "text/plain": [
       "'4. What is the correct extension of the Python file?'"
      ]
     },
     "execution_count": 10,
     "metadata": {},
     "output_type": "execute_result"
    }
   ],
   "source": [
    "'4. What is the correct extension of the Python file?'"
   ]
  },
  {
   "cell_type": "code",
   "execution_count": 11,
   "id": "64dad5a9-c4b7-4366-8f17-83cea8b736c2",
   "metadata": {},
   "outputs": [
    {
     "data": {
      "text/plain": [
       "'Ans- The extensions for Python files are- .py, .pyi'"
      ]
     },
     "execution_count": 11,
     "metadata": {},
     "output_type": "execute_result"
    }
   ],
   "source": [
    "'Ans- The extensions for Python files are- .py, .pyi'"
   ]
  },
  {
   "cell_type": "code",
   "execution_count": 12,
   "id": "482877a1-022f-43a6-99f6-a5b695c0c913",
   "metadata": {},
   "outputs": [
    {
     "data": {
      "text/plain": [
       "'5. Is Python code compiled or interpreted?'"
      ]
     },
     "execution_count": 12,
     "metadata": {},
     "output_type": "execute_result"
    }
   ],
   "source": [
    "'5. Is Python code compiled or interpreted?'"
   ]
  },
  {
   "cell_type": "code",
   "execution_count": 13,
   "id": "cf1bcf19-f01b-48e7-a448-f953a7f6d9f9",
   "metadata": {},
   "outputs": [
    {
     "data": {
      "text/plain": [
       "'Ans- Python is an interpreted language'"
      ]
     },
     "execution_count": 13,
     "metadata": {},
     "output_type": "execute_result"
    }
   ],
   "source": [
    "'Ans- Python is an interpreted language'"
   ]
  },
  {
   "cell_type": "code",
   "execution_count": 14,
   "id": "50dbdc3a-56ae-4c48-9ae3-644b588bfc96",
   "metadata": {},
   "outputs": [
    {
     "data": {
      "text/plain": [
       "'6. Name a few blocks of code used to define in Python language?'"
      ]
     },
     "execution_count": 14,
     "metadata": {},
     "output_type": "execute_result"
    }
   ],
   "source": [
    "'6. Name a few blocks of code used to define in Python language?'"
   ]
  },
  {
   "cell_type": "code",
   "execution_count": 15,
   "id": "9b3e6ac4-0666-4dd2-b6ea-4511846c2891",
   "metadata": {},
   "outputs": [
    {
     "data": {
      "text/plain": [
       "'Ans-The following are blocks: a module, a function body and a class definition.Each command typed interactively is a block'"
      ]
     },
     "execution_count": 15,
     "metadata": {},
     "output_type": "execute_result"
    }
   ],
   "source": [
    "'Ans-The following are blocks: a module, a function body and a class definition.Each command typed interactively is a block'"
   ]
  },
  {
   "cell_type": "code",
   "execution_count": 16,
   "id": "afed58f4-e952-4a5c-87e3-740c809a2b02",
   "metadata": {},
   "outputs": [
    {
     "data": {
      "text/plain": [
       "'7.State a character used to give single line comments in python?'"
      ]
     },
     "execution_count": 16,
     "metadata": {},
     "output_type": "execute_result"
    }
   ],
   "source": [
    "'7.State a character used to give single line comments in python?'"
   ]
  },
  {
   "cell_type": "code",
   "execution_count": 17,
   "id": "115bbc48-d19c-43ea-bfd5-50f84947ea47",
   "metadata": {},
   "outputs": [
    {
     "data": {
      "text/plain": [
       "'Ans- # '"
      ]
     },
     "execution_count": 17,
     "metadata": {},
     "output_type": "execute_result"
    }
   ],
   "source": [
    "'Ans- # '"
   ]
  },
  {
   "cell_type": "code",
   "execution_count": 18,
   "id": "97a2f31d-cc42-447f-8be9-bb973b726fd8",
   "metadata": {},
   "outputs": [
    {
     "data": {
      "text/plain": [
       "'8.Mention functions which can help us to find the version of python what we are currently working on?'"
      ]
     },
     "execution_count": 18,
     "metadata": {},
     "output_type": "execute_result"
    }
   ],
   "source": [
    "'8.Mention functions which can help us to find the version of python what we are currently working on?'"
   ]
  },
  {
   "cell_type": "code",
   "execution_count": 19,
   "id": "e14a0b7e-b05d-4a23-901c-73780e7b144f",
   "metadata": {},
   "outputs": [
    {
     "data": {
      "text/plain": [
       "'Ans- The function \"sys.version\" can help us to find the version of python that we are currently working on.'"
      ]
     },
     "execution_count": 19,
     "metadata": {},
     "output_type": "execute_result"
    }
   ],
   "source": [
    "'Ans- The function \"sys.version\" can help us to find the version of python that we are currently working on.'"
   ]
  },
  {
   "cell_type": "code",
   "execution_count": 20,
   "id": "0d07aa0e-1773-4553-b833-c7695a08f53b",
   "metadata": {},
   "outputs": [
    {
     "data": {
      "text/plain": [
       "'9. Python support the creation of anonymous functions at runtime, using a construct called'"
      ]
     },
     "execution_count": 20,
     "metadata": {},
     "output_type": "execute_result"
    }
   ],
   "source": [
    "'9. Python support the creation of anonymous functions at runtime, using a construct called'"
   ]
  },
  {
   "cell_type": "code",
   "execution_count": 21,
   "id": "ff8b19cb-02a6-4517-8b5d-580809cebac8",
   "metadata": {},
   "outputs": [
    {
     "data": {
      "text/plain": [
       "'Ans-\"lambda\"'"
      ]
     },
     "execution_count": 21,
     "metadata": {},
     "output_type": "execute_result"
    }
   ],
   "source": [
    "'Ans-\"lambda\"'"
   ]
  },
  {
   "cell_type": "code",
   "execution_count": 22,
   "id": "e869b980-e0b1-4e75-9e33-2c50788fa0f4",
   "metadata": {},
   "outputs": [
    {
     "data": {
      "text/plain": [
       "'10.What does pip stand for python?'"
      ]
     },
     "execution_count": 22,
     "metadata": {},
     "output_type": "execute_result"
    }
   ],
   "source": [
    "'10.What does pip stand for python?'"
   ]
  },
  {
   "cell_type": "code",
   "execution_count": 23,
   "id": "31dd1c65-b0cc-4eb2-8a8e-c6fe78b70e7a",
   "metadata": {},
   "outputs": [
    {
     "data": {
      "text/plain": [
       "'Ans- \" preferred installer program\"'"
      ]
     },
     "execution_count": 23,
     "metadata": {},
     "output_type": "execute_result"
    }
   ],
   "source": [
    "'Ans- \" preferred installer program\"'"
   ]
  },
  {
   "cell_type": "code",
   "execution_count": 24,
   "id": "0a39c37d-a37d-4812-be80-63b90815ddf9",
   "metadata": {},
   "outputs": [
    {
     "data": {
      "text/plain": [
       "'11.Mention a few built in function in python?'"
      ]
     },
     "execution_count": 24,
     "metadata": {},
     "output_type": "execute_result"
    }
   ],
   "source": [
    "'11.Mention a few built in function in python?'"
   ]
  },
  {
   "cell_type": "code",
   "execution_count": 25,
   "id": "bb31efd4-c31f-49f7-90ab-82f9c1377194",
   "metadata": {},
   "outputs": [
    {
     "data": {
      "text/plain": [
       "'Ans-print(),type(),find(),count() etc'"
      ]
     },
     "execution_count": 25,
     "metadata": {},
     "output_type": "execute_result"
    }
   ],
   "source": [
    "'Ans-print(),type(),find(),count() etc'"
   ]
  },
  {
   "cell_type": "code",
   "execution_count": 26,
   "id": "625f59ee-c2e9-4521-bafa-9d1eb0e7601f",
   "metadata": {},
   "outputs": [
    {
     "data": {
      "text/plain": [
       "'12.What is the maximum possible length of an identifier in Python?'"
      ]
     },
     "execution_count": 26,
     "metadata": {},
     "output_type": "execute_result"
    }
   ],
   "source": [
    "'12.What is the maximum possible length of an identifier in Python?'"
   ]
  },
  {
   "cell_type": "code",
   "execution_count": 27,
   "id": "eb0db91f-744f-4702-9cb4-7c9985fc8f92",
   "metadata": {},
   "outputs": [
    {
     "data": {
      "text/plain": [
       "'Ans-79 character'"
      ]
     },
     "execution_count": 27,
     "metadata": {},
     "output_type": "execute_result"
    }
   ],
   "source": [
    "'Ans-79 character'"
   ]
  },
  {
   "cell_type": "code",
   "execution_count": 28,
   "id": "8d921b15-374d-4c54-88de-fd16e6d43251",
   "metadata": {},
   "outputs": [
    {
     "data": {
      "text/plain": [
       "'13.What are the benefits of using python?'"
      ]
     },
     "execution_count": 28,
     "metadata": {},
     "output_type": "execute_result"
    }
   ],
   "source": [
    "'13.What are the benefits of using python?'"
   ]
  },
  {
   "cell_type": "code",
   "execution_count": 29,
   "id": "5d026c6c-82d7-49bd-83cc-a36656592735",
   "metadata": {},
   "outputs": [
    {
     "data": {
      "text/plain": [
       "'Ans-There are many benefits of using python,it is used for data science,it is used for data analysis,it is used for developing websites and software'"
      ]
     },
     "execution_count": 29,
     "metadata": {},
     "output_type": "execute_result"
    }
   ],
   "source": [
    "'Ans-There are many benefits of using python,it is used for data science,it is used for data analysis,it is used for developing websites and software'"
   ]
  },
  {
   "cell_type": "code",
   "execution_count": 30,
   "id": "f87d2083-4dfd-4f4b-82f1-6fd298a9ffb8",
   "metadata": {},
   "outputs": [
    {
     "data": {
      "text/plain": [
       "'14.How is memory managed in python?'"
      ]
     },
     "execution_count": 30,
     "metadata": {},
     "output_type": "execute_result"
    }
   ],
   "source": [
    "'14.How is memory managed in python?'"
   ]
  },
  {
   "cell_type": "code",
   "execution_count": 31,
   "id": "98ee92e9-af5b-4b4d-a41c-503eb89bff0c",
   "metadata": {},
   "outputs": [
    {
     "data": {
      "text/plain": [
       "'Ans-Memory management in Python involves a private heap containing all Python objects and data structures'"
      ]
     },
     "execution_count": 31,
     "metadata": {},
     "output_type": "execute_result"
    }
   ],
   "source": [
    "'Ans-Memory management in Python involves a private heap containing all Python objects and data structures'"
   ]
  },
  {
   "cell_type": "code",
   "execution_count": 32,
   "id": "4bb99e0d-da44-47f3-bb3b-1e0bb4616805",
   "metadata": {},
   "outputs": [
    {
     "data": {
      "text/plain": [
       "'15.How is install Python on Windows and set path variable?'"
      ]
     },
     "execution_count": 32,
     "metadata": {},
     "output_type": "execute_result"
    }
   ],
   "source": [
    "'15.How is install Python on Windows and set path variable?'"
   ]
  },
  {
   "cell_type": "code",
   "execution_count": 33,
   "id": "79a13c71-761e-42af-8441-a8b94befe888",
   "metadata": {},
   "outputs": [
    {
     "data": {
      "text/plain": [
       "'Ans-The complete path of python can be added by:\\n1.Right clicking This PC and going to Properties.\\n2.Clicking on the Advanced system settings in the menu on the left.\\n3.Clicking on the Environment Variables button on the bottom right.\\n4.In the System variables section, selecting the Path variable and clicking on Edit.The next screen will show all the directories that are currently a part of thr PATH variable\\n5.Clicking on New and entering Python install directory'"
      ]
     },
     "execution_count": 33,
     "metadata": {},
     "output_type": "execute_result"
    }
   ],
   "source": [
    "\"\"\"Ans-The complete path of python can be added by:\n",
    "1.Right clicking This PC and going to Properties.\n",
    "2.Clicking on the Advanced system settings in the menu on the left.\n",
    "3.Clicking on the Environment Variables button on the bottom right.\n",
    "4.In the System variables section, selecting the Path variable and clicking on Edit.The next screen will show all the directories that are currently a part of thr PATH variable\n",
    "5.Clicking on New and entering Python install directory\"\"\""
   ]
  },
  {
   "cell_type": "code",
   "execution_count": 34,
   "id": "4422205d-7de9-46b3-8ecd-b79f85ede99b",
   "metadata": {},
   "outputs": [
    {
     "data": {
      "text/plain": [
       "'16.Is Indentation required in python?'"
      ]
     },
     "execution_count": 34,
     "metadata": {},
     "output_type": "execute_result"
    }
   ],
   "source": [
    "'16.Is Indentation required in python?'"
   ]
  },
  {
   "cell_type": "code",
   "execution_count": 35,
   "id": "e7c69ade-7f35-4a05-9fc3-92d3aa72e9c2",
   "metadata": {},
   "outputs": [
    {
     "data": {
      "text/plain": [
       "'Ans-Yes,the indentation in python is very important'"
      ]
     },
     "execution_count": 35,
     "metadata": {},
     "output_type": "execute_result"
    }
   ],
   "source": [
    "'Ans-Yes,the indentation in python is very important'"
   ]
  },
  {
   "cell_type": "code",
   "execution_count": null,
   "id": "f1b45b17-1380-4529-b70f-aa0826e5f917",
   "metadata": {},
   "outputs": [],
   "source": []
  }
 ],
 "metadata": {
  "kernelspec": {
   "display_name": "Python 3 (ipykernel)",
   "language": "python",
   "name": "python3"
  },
  "language_info": {
   "codemirror_mode": {
    "name": "ipython",
    "version": 3
   },
   "file_extension": ".py",
   "mimetype": "text/x-python",
   "name": "python",
   "nbconvert_exporter": "python",
   "pygments_lexer": "ipython3",
   "version": "3.10.8"
  }
 },
 "nbformat": 4,
 "nbformat_minor": 5
}
